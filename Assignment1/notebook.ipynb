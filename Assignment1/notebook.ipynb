{
 "cells": [
  {
   "cell_type": "code",
   "execution_count": 43,
   "metadata": {},
   "outputs": [
    {
     "name": "stdout",
     "output_type": "stream",
     "text": [
      "    communityID          province        city urban_nbs areatype\n",
      "0       0940041              ±±¾©        ±±¾©     Urban      111\n",
      "1       0940042              ±±¾©        ±±¾©     Urban      111\n",
      "2       0940043              ±±¾©        ±±¾©     Urban      111\n",
      "3       1940373              Ìì½ò        Ìì½ò     Urban      112\n",
      "4       1940371              Ìì½ò        Ìì½ò     Urban      112\n",
      "..          ...               ...         ...       ...      ...\n",
      "445     0467461            Çàº£Ê¡    º£¶«µØÇø     Rural      220\n",
      "446     0467463            Çàº£Ê¡    º£¶«µØÇø     Rural      220\n",
      "447     0896762  ÐÂ½®Î¬Îá¶û×ÔÖÎÇø  °¢¿ËËÕµØÇø     Urban      121\n",
      "448     0896763  ÐÂ½®Î¬Îá¶û×ÔÖÎÇø  °¢¿ËËÕµØÇø     Urban      121\n",
      "449     0896761  ÐÂ½®Î¬Îá¶û×ÔÖÎÇø  °¢¿ËËÕµØÇø     Rural      220\n",
      "\n",
      "[450 rows x 5 columns]\n"
     ]
    }
   ],
   "source": [
    "import pandas as pd\n",
    "# data = pd.io.stata.read_stata('/Users/n33mo/Downloads/psu.dta')\n",
    "data = pd.read_stata('/Users/n33mo/Downloads/psu.dta')\n",
    "for i in data['city']:\n",
    "    i = i.encode('latin-1').decode('gb18030')\n",
    "for i in range(len(data['city'])):\n",
    "    data['city'][i] = \n",
    "print(data)\n",
    "# print(data['city'][448].encode('latin-1').decode('gb18030'))"
   ]
  },
  {
   "cell_type": "code",
   "execution_count": null,
   "metadata": {},
   "outputs": [],
   "source": []
  },
  {
   "cell_type": "code",
   "execution_count": null,
   "metadata": {},
   "outputs": [],
   "source": []
  }
 ],
 "metadata": {
  "kernelspec": {
   "display_name": "Python 3",
   "language": "python",
   "name": "python3"
  },
  "language_info": {
   "codemirror_mode": {
    "name": "ipython",
    "version": 3
   },
   "file_extension": ".py",
   "mimetype": "text/x-python",
   "name": "python",
   "nbconvert_exporter": "python",
   "pygments_lexer": "ipython3",
   "version": "3.7.4"
  }
 },
 "nbformat": 4,
 "nbformat_minor": 2
}
